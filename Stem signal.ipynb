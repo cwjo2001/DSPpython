{
 "cells": [
  {
   "cell_type": "markdown",
   "metadata": {},
   "source": [
    "# Stem plot"
   ]
  },
  {
   "cell_type": "markdown",
   "metadata": {},
   "source": [
    "stem함수를 이용하여 막대 형태로 신호 그리기"
   ]
  },
  {
   "cell_type": "code",
   "execution_count": 2,
   "metadata": {
    "scrolled": true
   },
   "outputs": [
    {
     "name": "stderr",
     "output_type": "stream",
     "text": [
      "C:\\Users\\user\\Anaconda3\\lib\\site-packages\\ipykernel_launcher.py:8: UserWarning: In Matplotlib 3.3 individual lines on a stem plot will be added as a LineCollection instead of individual lines. This significantly improves the performance of a stem plot. To remove this warning and switch to the new behaviour, set the \"use_line_collection\" keyword argument to True.\n",
      "  \n"
     ]
    },
    {
     "data": {
      "image/png": "[encoded data removed]",
      "text/plain": [
       "<Figure size 432x288 with 1 Axes>"
      ]
     },
     "metadata": {
      "needs_background": "light"
     },
     "output_type": "display_data"
    }
   ],
   "source": [
    "import numpy as np    # 수치계산용 라이브러리 Numpy  \n",
    "import matplotlib.pyplot as plt   # \n",
    " \n",
    "t=np.arange(0.0, 1, 0.1) # 시간축 범위 생성  0초 부터 3초까지 0.1초 간격\n",
    "f0=1  # 주파수 설정 1Hz\n",
    "pi=3.14159265  # Pi의 값 설정 \n",
    "y=np.sin(2 * pi * f0 * t)  # 시간 축 t에 따른 정현파 함수값 계산\n",
    "plt.stem(t,y,'-')  # matplotlib의 plot 함수 호출 그래프 그림\n",
    "plt.show()   # 그려진 그래프를 보이게 함   "
   ]
  },
  {
   "cell_type": "markdown",
   "metadata": {},
   "source": [
    "# 연습"
   ]
  },
  {
   "cell_type": "markdown",
   "metadata": {},
   "source": [
    "cos함수의 주파수가 1일때, 5일때 stem함수를 이용하여 신호를 그려보자."
   ]
  },
  {
   "cell_type": "code",
   "execution_count": null,
   "metadata": {},
   "outputs": [],
   "source": []
  },
  {
   "cell_type": "code",
   "execution_count": null,
   "metadata": {},
   "outputs": [],
   "source": []
  }
 ],
 "metadata": {
  "kernelspec": {
   "display_name": "Python 3",
   "language": "python",
   "name": "python3"
  },
  "language_info": {
   "codemirror_mode": {
    "name": "ipython",
    "version": 3
   },
   "file_extension": ".py",
   "mimetype": "text/x-python",
   "name": "python",
   "nbconvert_exporter": "python",
   "pygments_lexer": "ipython3",
   "version": "3.7.4"
  }
 },
 "nbformat": 4,
 "nbformat_minor": 2
}
